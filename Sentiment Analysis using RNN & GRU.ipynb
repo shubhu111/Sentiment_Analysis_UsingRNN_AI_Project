{
 "cells": [
  {
   "cell_type": "raw",
   "id": "6e297221-e0c7-4358-b91f-941da072f335",
   "metadata": {},
   "source": [
    "name : Shubham Tade \n",
    "Project : Sentiment Analysis using RNN / GRU"
   ]
  },
  {
   "cell_type": "code",
   "execution_count": 1,
   "id": "b0831b42-6ac8-4373-a7bc-c5fa6136e0db",
   "metadata": {},
   "outputs": [],
   "source": [
    "import numpy as np \n",
    "import pandas as pd \n",
    "import matplotlib.pyplot as plt\n",
    "import warnings\n",
    "warnings.filterwarnings(\"ignore\")"
   ]
  },
  {
   "cell_type": "code",
   "execution_count": 54,
   "id": "9d686ce3-77b1-4d47-b0c5-641cc6c74dc2",
   "metadata": {},
   "outputs": [],
   "source": [
    "from tensorflow.keras.preprocessing.text import Tokenizer\n",
    "from keras.utils import pad_sequences , to_categorical\n",
    "from keras import Sequential\n",
    "from keras.layers import Dense , SimpleRNN , Embedding , Flatten , GRU , LSTM, Dropout, Bidirectional\n"
   ]
  },
  {
   "cell_type": "code",
   "execution_count": 3,
   "id": "cfdbe0f1-2e85-4a08-9685-16cc8e6fef28",
   "metadata": {},
   "outputs": [
    {
     "data": {
      "text/html": [
       "<div>\n",
       "<style scoped>\n",
       "    .dataframe tbody tr th:only-of-type {\n",
       "        vertical-align: middle;\n",
       "    }\n",
       "\n",
       "    .dataframe tbody tr th {\n",
       "        vertical-align: top;\n",
       "    }\n",
       "\n",
       "    .dataframe thead th {\n",
       "        text-align: right;\n",
       "    }\n",
       "</style>\n",
       "<table border=\"1\" class=\"dataframe\">\n",
       "  <thead>\n",
       "    <tr style=\"text-align: right;\">\n",
       "      <th></th>\n",
       "      <th>textID</th>\n",
       "      <th>text</th>\n",
       "      <th>selected_text</th>\n",
       "      <th>sentiment</th>\n",
       "      <th>Time of Tweet</th>\n",
       "      <th>Age of User</th>\n",
       "      <th>Country</th>\n",
       "      <th>Population -2020</th>\n",
       "      <th>Land Area (Km²)</th>\n",
       "      <th>Density (P/Km²)</th>\n",
       "    </tr>\n",
       "  </thead>\n",
       "  <tbody>\n",
       "    <tr>\n",
       "      <th>0</th>\n",
       "      <td>cb774db0d1</td>\n",
       "      <td>I`d have responded, if I were going</td>\n",
       "      <td>I`d have responded, if I were going</td>\n",
       "      <td>neutral</td>\n",
       "      <td>morning</td>\n",
       "      <td>0-20</td>\n",
       "      <td>Afghanistan</td>\n",
       "      <td>38928346</td>\n",
       "      <td>652860.0</td>\n",
       "      <td>60</td>\n",
       "    </tr>\n",
       "    <tr>\n",
       "      <th>1</th>\n",
       "      <td>549e992a42</td>\n",
       "      <td>Sooo SAD I will miss you here in San Diego!!!</td>\n",
       "      <td>Sooo SAD</td>\n",
       "      <td>negative</td>\n",
       "      <td>noon</td>\n",
       "      <td>21-30</td>\n",
       "      <td>Albania</td>\n",
       "      <td>2877797</td>\n",
       "      <td>27400.0</td>\n",
       "      <td>105</td>\n",
       "    </tr>\n",
       "    <tr>\n",
       "      <th>2</th>\n",
       "      <td>088c60f138</td>\n",
       "      <td>my boss is bullying me...</td>\n",
       "      <td>bullying me</td>\n",
       "      <td>negative</td>\n",
       "      <td>night</td>\n",
       "      <td>31-45</td>\n",
       "      <td>Algeria</td>\n",
       "      <td>43851044</td>\n",
       "      <td>2381740.0</td>\n",
       "      <td>18</td>\n",
       "    </tr>\n",
       "    <tr>\n",
       "      <th>3</th>\n",
       "      <td>9642c003ef</td>\n",
       "      <td>what interview! leave me alone</td>\n",
       "      <td>leave me alone</td>\n",
       "      <td>negative</td>\n",
       "      <td>morning</td>\n",
       "      <td>46-60</td>\n",
       "      <td>Andorra</td>\n",
       "      <td>77265</td>\n",
       "      <td>470.0</td>\n",
       "      <td>164</td>\n",
       "    </tr>\n",
       "    <tr>\n",
       "      <th>4</th>\n",
       "      <td>358bd9e861</td>\n",
       "      <td>Sons of ****, why couldn`t they put them on t...</td>\n",
       "      <td>Sons of ****,</td>\n",
       "      <td>negative</td>\n",
       "      <td>noon</td>\n",
       "      <td>60-70</td>\n",
       "      <td>Angola</td>\n",
       "      <td>32866272</td>\n",
       "      <td>1246700.0</td>\n",
       "      <td>26</td>\n",
       "    </tr>\n",
       "  </tbody>\n",
       "</table>\n",
       "</div>"
      ],
      "text/plain": [
       "       textID                                               text  \\\n",
       "0  cb774db0d1                I`d have responded, if I were going   \n",
       "1  549e992a42      Sooo SAD I will miss you here in San Diego!!!   \n",
       "2  088c60f138                          my boss is bullying me...   \n",
       "3  9642c003ef                     what interview! leave me alone   \n",
       "4  358bd9e861   Sons of ****, why couldn`t they put them on t...   \n",
       "\n",
       "                         selected_text sentiment Time of Tweet Age of User  \\\n",
       "0  I`d have responded, if I were going   neutral       morning        0-20   \n",
       "1                             Sooo SAD  negative          noon       21-30   \n",
       "2                          bullying me  negative         night       31-45   \n",
       "3                       leave me alone  negative       morning       46-60   \n",
       "4                        Sons of ****,  negative          noon       60-70   \n",
       "\n",
       "       Country  Population -2020  Land Area (Km²)  Density (P/Km²)  \n",
       "0  Afghanistan          38928346         652860.0               60  \n",
       "1      Albania           2877797          27400.0              105  \n",
       "2      Algeria          43851044        2381740.0               18  \n",
       "3      Andorra             77265            470.0              164  \n",
       "4       Angola          32866272        1246700.0               26  "
      ]
     },
     "execution_count": 3,
     "metadata": {},
     "output_type": "execute_result"
    }
   ],
   "source": [
    "train = pd.read_csv(r\"C:\\Users\\Shubham Tade\\Desktop\\Projects\\Ai project\\Sentiment Analysis using RNN\\train.csv\",encoding='latin1')\n",
    "train.head()"
   ]
  },
  {
   "cell_type": "code",
   "execution_count": 4,
   "id": "890a4880-6689-4b99-b124-024e34b96368",
   "metadata": {},
   "outputs": [
    {
     "data": {
      "text/html": [
       "<div>\n",
       "<style scoped>\n",
       "    .dataframe tbody tr th:only-of-type {\n",
       "        vertical-align: middle;\n",
       "    }\n",
       "\n",
       "    .dataframe tbody tr th {\n",
       "        vertical-align: top;\n",
       "    }\n",
       "\n",
       "    .dataframe thead th {\n",
       "        text-align: right;\n",
       "    }\n",
       "</style>\n",
       "<table border=\"1\" class=\"dataframe\">\n",
       "  <thead>\n",
       "    <tr style=\"text-align: right;\">\n",
       "      <th></th>\n",
       "      <th>textID</th>\n",
       "      <th>text</th>\n",
       "      <th>sentiment</th>\n",
       "      <th>Time of Tweet</th>\n",
       "      <th>Age of User</th>\n",
       "      <th>Country</th>\n",
       "      <th>Population -2020</th>\n",
       "      <th>Land Area (Km²)</th>\n",
       "      <th>Density (P/Km²)</th>\n",
       "    </tr>\n",
       "  </thead>\n",
       "  <tbody>\n",
       "    <tr>\n",
       "      <th>0</th>\n",
       "      <td>f87dea47db</td>\n",
       "      <td>Last session of the day  http://twitpic.com/67ezh</td>\n",
       "      <td>neutral</td>\n",
       "      <td>morning</td>\n",
       "      <td>0-20</td>\n",
       "      <td>Afghanistan</td>\n",
       "      <td>38928346.0</td>\n",
       "      <td>652860.0</td>\n",
       "      <td>60.0</td>\n",
       "    </tr>\n",
       "    <tr>\n",
       "      <th>1</th>\n",
       "      <td>96d74cb729</td>\n",
       "      <td>Shanghai is also really exciting (precisely -...</td>\n",
       "      <td>positive</td>\n",
       "      <td>noon</td>\n",
       "      <td>21-30</td>\n",
       "      <td>Albania</td>\n",
       "      <td>2877797.0</td>\n",
       "      <td>27400.0</td>\n",
       "      <td>105.0</td>\n",
       "    </tr>\n",
       "    <tr>\n",
       "      <th>2</th>\n",
       "      <td>eee518ae67</td>\n",
       "      <td>Recession hit Veronique Branquinho, she has to...</td>\n",
       "      <td>negative</td>\n",
       "      <td>night</td>\n",
       "      <td>31-45</td>\n",
       "      <td>Algeria</td>\n",
       "      <td>43851044.0</td>\n",
       "      <td>2381740.0</td>\n",
       "      <td>18.0</td>\n",
       "    </tr>\n",
       "    <tr>\n",
       "      <th>3</th>\n",
       "      <td>01082688c6</td>\n",
       "      <td>happy bday!</td>\n",
       "      <td>positive</td>\n",
       "      <td>morning</td>\n",
       "      <td>46-60</td>\n",
       "      <td>Andorra</td>\n",
       "      <td>77265.0</td>\n",
       "      <td>470.0</td>\n",
       "      <td>164.0</td>\n",
       "    </tr>\n",
       "    <tr>\n",
       "      <th>4</th>\n",
       "      <td>33987a8ee5</td>\n",
       "      <td>http://twitpic.com/4w75p - I like it!!</td>\n",
       "      <td>positive</td>\n",
       "      <td>noon</td>\n",
       "      <td>60-70</td>\n",
       "      <td>Angola</td>\n",
       "      <td>32866272.0</td>\n",
       "      <td>1246700.0</td>\n",
       "      <td>26.0</td>\n",
       "    </tr>\n",
       "  </tbody>\n",
       "</table>\n",
       "</div>"
      ],
      "text/plain": [
       "       textID                                               text sentiment  \\\n",
       "0  f87dea47db  Last session of the day  http://twitpic.com/67ezh   neutral   \n",
       "1  96d74cb729   Shanghai is also really exciting (precisely -...  positive   \n",
       "2  eee518ae67  Recession hit Veronique Branquinho, she has to...  negative   \n",
       "3  01082688c6                                        happy bday!  positive   \n",
       "4  33987a8ee5             http://twitpic.com/4w75p - I like it!!  positive   \n",
       "\n",
       "  Time of Tweet Age of User      Country  Population -2020  Land Area (Km²)  \\\n",
       "0       morning        0-20  Afghanistan        38928346.0         652860.0   \n",
       "1          noon       21-30      Albania         2877797.0          27400.0   \n",
       "2         night       31-45      Algeria        43851044.0        2381740.0   \n",
       "3       morning       46-60      Andorra           77265.0            470.0   \n",
       "4          noon       60-70       Angola        32866272.0        1246700.0   \n",
       "\n",
       "   Density (P/Km²)  \n",
       "0             60.0  \n",
       "1            105.0  \n",
       "2             18.0  \n",
       "3            164.0  \n",
       "4             26.0  "
      ]
     },
     "execution_count": 4,
     "metadata": {},
     "output_type": "execute_result"
    }
   ],
   "source": [
    "validation = pd.read_csv(r\"C:\\Users\\Shubham Tade\\Desktop\\Projects\\Ai project\\Sentiment Analysis using RNN\\test.csv\",encoding='latin1')\n",
    "validation.head()"
   ]
  },
  {
   "cell_type": "code",
   "execution_count": 5,
   "id": "0461dee1-02ad-406d-b114-5c4025e443f5",
   "metadata": {},
   "outputs": [],
   "source": [
    "train = train[[\"text\",\"sentiment\"]]\n",
    "validation = validation[[\"text\",\"sentiment\"]]"
   ]
  },
  {
   "cell_type": "code",
   "execution_count": 6,
   "id": "4ccebfcf-a42b-456b-863c-7b54397b47ea",
   "metadata": {},
   "outputs": [],
   "source": [
    "train[\"text\"].fillna(\" \",inplace=True)\n",
    "validation[\"text\"].fillna(\" \",inplace=True)"
   ]
  },
  {
   "cell_type": "code",
   "execution_count": 7,
   "id": "70464c5f-081f-466e-a89f-da58e0112a88",
   "metadata": {},
   "outputs": [],
   "source": [
    "def func(sentiment):\n",
    "    if sentiment==\"positive\":\n",
    "        return 0 ;\n",
    "    elif sentiment==\"negative\":\n",
    "        return 1 ;\n",
    "    else:\n",
    "        return 2;\n",
    "train[\"sentiment\"]=train[\"sentiment\"].apply(func)\n",
    "validation[\"sentiment\"]=validation[\"sentiment\"].apply(func)"
   ]
  },
  {
   "cell_type": "code",
   "execution_count": 8,
   "id": "d3a2cea6-e15a-485f-90e6-e74bc1fef938",
   "metadata": {},
   "outputs": [],
   "source": [
    "X_train = np.array(train[\"text\"].tolist())\n",
    "y_train = np.array(train[\"sentiment\"].tolist())\n",
    "X_test = np.array(validation[\"text\"].tolist())\n",
    "y_test = np.array(validation[\"sentiment\"].tolist())"
   ]
  },
  {
   "cell_type": "code",
   "execution_count": 9,
   "id": "d2cde757-05dd-4a32-9c19-6b36c4ff0687",
   "metadata": {},
   "outputs": [
    {
     "data": {
      "text/plain": [
       "array([' I`d have responded, if I were going',\n",
       "       ' Sooo SAD I will miss you here in San Diego!!!',\n",
       "       'my boss is bullying me...', ...,\n",
       "       ' Yay good for both of you. Enjoy the break - you probably need it after such hectic weekend  Take care hun xxxx',\n",
       "       ' But it was worth it  ****.',\n",
       "       '   All this flirting going on - The ATG smiles. Yay.  ((hugs))'],\n",
       "      dtype='<U159')"
      ]
     },
     "execution_count": 9,
     "metadata": {},
     "output_type": "execute_result"
    }
   ],
   "source": [
    "X_train"
   ]
  },
  {
   "cell_type": "code",
   "execution_count": 10,
   "id": "0a31c595-0455-42e2-a0f3-81c42fb7309c",
   "metadata": {},
   "outputs": [
    {
     "data": {
      "text/plain": [
       "array([2, 1, 1, ..., 0, 0, 2])"
      ]
     },
     "execution_count": 10,
     "metadata": {},
     "output_type": "execute_result"
    }
   ],
   "source": [
    "y_train"
   ]
  },
  {
   "cell_type": "code",
   "execution_count": 11,
   "id": "8954c67d-a29e-409b-a3b3-f0146f926eb5",
   "metadata": {},
   "outputs": [],
   "source": [
    "y_train = to_categorical(y_train,3)\n",
    "y_test = to_categorical(y_test,3)"
   ]
  },
  {
   "cell_type": "code",
   "execution_count": 12,
   "id": "0cbc0f4c-9594-4500-a379-32c20337c9ee",
   "metadata": {},
   "outputs": [
    {
     "data": {
      "text/plain": [
       "array([[0., 0., 1.],\n",
       "       [0., 1., 0.],\n",
       "       [0., 1., 0.],\n",
       "       ...,\n",
       "       [1., 0., 0.],\n",
       "       [1., 0., 0.],\n",
       "       [0., 0., 1.]])"
      ]
     },
     "execution_count": 12,
     "metadata": {},
     "output_type": "execute_result"
    }
   ],
   "source": [
    "y_train"
   ]
  },
  {
   "cell_type": "code",
   "execution_count": 13,
   "id": "241f65cd-8dfa-40dc-bef9-a3033999f905",
   "metadata": {},
   "outputs": [],
   "source": [
    "tokenizer = Tokenizer(num_words=20000)"
   ]
  },
  {
   "cell_type": "code",
   "execution_count": 14,
   "id": "23ee5bda-cff6-4d67-9a1c-fb47322e35c9",
   "metadata": {},
   "outputs": [],
   "source": [
    "tokenizer.fit_on_texts(X_train)\n",
    "tokenizer.fit_on_texts(X_test)"
   ]
  },
  {
   "cell_type": "code",
   "execution_count": 15,
   "id": "696e4eb5-ae19-4920-b942-d16d5e760cd8",
   "metadata": {},
   "outputs": [
    {
     "data": {
      "text/plain": [
       "28614"
      ]
     },
     "execution_count": 15,
     "metadata": {},
     "output_type": "execute_result"
    }
   ],
   "source": [
    "len(tokenizer.word_index)"
   ]
  },
  {
   "cell_type": "code",
   "execution_count": 16,
   "id": "f9ddb04a-af71-4f74-ac6a-18c72b5c6d9b",
   "metadata": {},
   "outputs": [],
   "source": [
    "X_train = tokenizer.texts_to_sequences(X_train)\n",
    "X_test = tokenizer.texts_to_sequences(X_test)"
   ]
  },
  {
   "cell_type": "code",
   "execution_count": 17,
   "id": "6451ffd2-e175-4e7a-b361-2ad29351b0a1",
   "metadata": {},
   "outputs": [],
   "source": [
    "X_train = pad_sequences(X_train , padding='post',maxlen=35)\n",
    "X_test = pad_sequences(X_test , padding='post',maxlen=35)"
   ]
  },
  {
   "cell_type": "code",
   "execution_count": 18,
   "id": "ed166d1c-eb85-486f-a2f3-3dd1e45fee37",
   "metadata": {},
   "outputs": [
    {
     "data": {
      "text/plain": [
       "array([   1,  162,   19, 7713,   71,    1,  151,   49,    0,    0,    0,\n",
       "          0,    0,    0,    0,    0,    0,    0,    0,    0,    0,    0,\n",
       "          0,    0,    0,    0,    0,    0,    0,    0,    0,    0,    0,\n",
       "          0,    0], dtype=int32)"
      ]
     },
     "execution_count": 18,
     "metadata": {},
     "output_type": "execute_result"
    }
   ],
   "source": [
    "X_train[0]"
   ]
  },
  {
   "cell_type": "code",
   "execution_count": 19,
   "id": "a2b61d31-49c9-47ec-9948-d5c468c5843f",
   "metadata": {},
   "outputs": [
    {
     "data": {
      "text/plain": [
       "(27481, 35)"
      ]
     },
     "execution_count": 19,
     "metadata": {},
     "output_type": "execute_result"
    }
   ],
   "source": [
    "X_train.shape"
   ]
  },
  {
   "cell_type": "markdown",
   "id": "af1a117f-773c-45f0-b3ff-b9f30d90fb30",
   "metadata": {},
   "source": [
    "## RNN Architecture"
   ]
  },
  {
   "cell_type": "code",
   "execution_count": 20,
   "id": "8a243d6d-1b8d-48f4-813d-ac44227d8c4b",
   "metadata": {},
   "outputs": [],
   "source": [
    "model = Sequential()\n",
    "model.add(Embedding(input_dim=20000,output_dim=7,input_length=35))\n",
    "model.add(SimpleRNN(32,return_sequences=False))\n",
    "model.add(Dense(3,activation='softmax'))          "
   ]
  },
  {
   "cell_type": "code",
   "execution_count": 21,
   "id": "de9c198a-76df-47f0-9e6d-86ad42d6f345",
   "metadata": {},
   "outputs": [],
   "source": [
    "model.compile(optimizer='adam',loss='categorical_crossentropy',metrics=[\"accuracy\"])"
   ]
  },
  {
   "cell_type": "code",
   "execution_count": 22,
   "id": "885b91ba-8839-4dfc-8a47-2f9ed5d02379",
   "metadata": {},
   "outputs": [
    {
     "name": "stdout",
     "output_type": "stream",
     "text": [
      "Epoch 1/10\n",
      "\u001b[1m859/859\u001b[0m \u001b[32m━━━━━━━━━━━━━━━━━━━━\u001b[0m\u001b[37m\u001b[0m \u001b[1m5s\u001b[0m 4ms/step - accuracy: 0.4868 - loss: 0.9855 - val_accuracy: 0.7439 - val_loss: 0.7205\n",
      "Epoch 2/10\n",
      "\u001b[1m859/859\u001b[0m \u001b[32m━━━━━━━━━━━━━━━━━━━━\u001b[0m\u001b[37m\u001b[0m \u001b[1m3s\u001b[0m 4ms/step - accuracy: 0.7137 - loss: 0.6874 - val_accuracy: 0.7520 - val_loss: 0.6589\n",
      "Epoch 3/10\n",
      "\u001b[1m859/859\u001b[0m \u001b[32m━━━━━━━━━━━━━━━━━━━━\u001b[0m\u001b[37m\u001b[0m \u001b[1m3s\u001b[0m 4ms/step - accuracy: 0.7851 - loss: 0.5516 - val_accuracy: 0.7637 - val_loss: 0.5912\n",
      "Epoch 4/10\n",
      "\u001b[1m859/859\u001b[0m \u001b[32m━━━━━━━━━━━━━━━━━━━━\u001b[0m\u001b[37m\u001b[0m \u001b[1m3s\u001b[0m 4ms/step - accuracy: 0.8320 - loss: 0.4592 - val_accuracy: 0.7680 - val_loss: 0.6299\n",
      "Epoch 5/10\n",
      "\u001b[1m859/859\u001b[0m \u001b[32m━━━━━━━━━━━━━━━━━━━━\u001b[0m\u001b[37m\u001b[0m \u001b[1m3s\u001b[0m 4ms/step - accuracy: 0.8740 - loss: 0.3721 - val_accuracy: 0.7641 - val_loss: 0.5991\n",
      "Epoch 6/10\n",
      "\u001b[1m859/859\u001b[0m \u001b[32m━━━━━━━━━━━━━━━━━━━━\u001b[0m\u001b[37m\u001b[0m \u001b[1m3s\u001b[0m 4ms/step - accuracy: 0.8913 - loss: 0.3251 - val_accuracy: 0.7460 - val_loss: 0.6621\n",
      "Epoch 7/10\n",
      "\u001b[1m859/859\u001b[0m \u001b[32m━━━━━━━━━━━━━━━━━━━━\u001b[0m\u001b[37m\u001b[0m \u001b[1m4s\u001b[0m 4ms/step - accuracy: 0.9090 - loss: 0.2724 - val_accuracy: 0.7510 - val_loss: 0.7122\n",
      "Epoch 8/10\n",
      "\u001b[1m859/859\u001b[0m \u001b[32m━━━━━━━━━━━━━━━━━━━━\u001b[0m\u001b[37m\u001b[0m \u001b[1m3s\u001b[0m 4ms/step - accuracy: 0.9253 - loss: 0.2336 - val_accuracy: 0.7283 - val_loss: 0.7768\n",
      "Epoch 9/10\n",
      "\u001b[1m859/859\u001b[0m \u001b[32m━━━━━━━━━━━━━━━━━━━━\u001b[0m\u001b[37m\u001b[0m \u001b[1m4s\u001b[0m 4ms/step - accuracy: 0.9324 - loss: 0.2082 - val_accuracy: 0.7346 - val_loss: 0.8059\n",
      "Epoch 10/10\n",
      "\u001b[1m859/859\u001b[0m \u001b[32m━━━━━━━━━━━━━━━━━━━━\u001b[0m\u001b[37m\u001b[0m \u001b[1m3s\u001b[0m 4ms/step - accuracy: 0.9439 - loss: 0.1780 - val_accuracy: 0.7323 - val_loss: 0.8542\n"
     ]
    }
   ],
   "source": [
    "history = model.fit(X_train , y_train , epochs=10,validation_data=(X_test,y_test))"
   ]
  },
  {
   "cell_type": "code",
   "execution_count": 23,
   "id": "fe383974-bcf2-4871-b24d-d08c27e5fca8",
   "metadata": {},
   "outputs": [
    {
     "data": {
      "image/png": "[encoded data removed]",
      "text/plain": [
       "<Figure size 640x480 with 1 Axes>"
      ]
     },
     "metadata": {},
     "output_type": "display_data"
    }
   ],
   "source": [
    "plt.plot(history.history['accuracy'])\n",
    "plt.plot(history.history['val_accuracy'])\n",
    "plt.show()"
   ]
  },
  {
   "cell_type": "markdown",
   "id": "383a824c-b997-458e-9e94-a2a7917a62c1",
   "metadata": {},
   "source": [
    "## GRU Architecture "
   ]
  },
  {
   "cell_type": "code",
   "execution_count": 24,
   "id": "fc251624-e2dc-414a-a50a-811d535466ba",
   "metadata": {},
   "outputs": [],
   "source": [
    "model2 = Sequential()\n",
    "model2.add(Embedding(input_dim=20000,output_dim=4,input_length=35))\n",
    "model2.add(GRU(40,return_sequences=False))\n",
    "model2.add(Dense(3,activation='softmax')) "
   ]
  },
  {
   "cell_type": "code",
   "execution_count": 25,
   "id": "a4292402-8230-4853-992f-af1874e526ea",
   "metadata": {},
   "outputs": [],
   "source": [
    "model2.build(input_shape=(None,35))"
   ]
  },
  {
   "cell_type": "code",
   "execution_count": 26,
   "id": "b0f883b7-2c45-41bc-837e-b9696fe07121",
   "metadata": {},
   "outputs": [
    {
     "data": {
      "text/html": [
       "<pre style=\"white-space:pre;overflow-x:auto;line-height:normal;font-family:Menlo,'DejaVu Sans Mono',consolas,'Courier New',monospace\"><span style=\"font-weight: bold\">Model: \"sequential_1\"</span>\n",
       "</pre>\n"
      ],
      "text/plain": [
       "\u001b[1mModel: \"sequential_1\"\u001b[0m\n"
      ]
     },
     "metadata": {},
     "output_type": "display_data"
    },
    {
     "data": {
      "text/html": [
       "<pre style=\"white-space:pre;overflow-x:auto;line-height:normal;font-family:Menlo,'DejaVu Sans Mono',consolas,'Courier New',monospace\">┏━━━━━━━━━━━━━━━━━━━━━━━━━━━━━━━━━━━━━━┳━━━━━━━━━━━━━━━━━━━━━━━━━━━━━┳━━━━━━━━━━━━━━━━━┓\n",
       "┃<span style=\"font-weight: bold\"> Layer (type)                         </span>┃<span style=\"font-weight: bold\"> Output Shape                </span>┃<span style=\"font-weight: bold\">         Param # </span>┃\n",
       "┡━━━━━━━━━━━━━━━━━━━━━━━━━━━━━━━━━━━━━━╇━━━━━━━━━━━━━━━━━━━━━━━━━━━━━╇━━━━━━━━━━━━━━━━━┩\n",
       "│ embedding_1 (<span style=\"color: #0087ff; text-decoration-color: #0087ff\">Embedding</span>)              │ (<span style=\"color: #00d7ff; text-decoration-color: #00d7ff\">None</span>, <span style=\"color: #00af00; text-decoration-color: #00af00\">35</span>, <span style=\"color: #00af00; text-decoration-color: #00af00\">4</span>)               │          <span style=\"color: #00af00; text-decoration-color: #00af00\">80,000</span> │\n",
       "├──────────────────────────────────────┼─────────────────────────────┼─────────────────┤\n",
       "│ gru (<span style=\"color: #0087ff; text-decoration-color: #0087ff\">GRU</span>)                            │ (<span style=\"color: #00d7ff; text-decoration-color: #00d7ff\">None</span>, <span style=\"color: #00af00; text-decoration-color: #00af00\">40</span>)                  │           <span style=\"color: #00af00; text-decoration-color: #00af00\">5,520</span> │\n",
       "├──────────────────────────────────────┼─────────────────────────────┼─────────────────┤\n",
       "│ dense_1 (<span style=\"color: #0087ff; text-decoration-color: #0087ff\">Dense</span>)                      │ (<span style=\"color: #00d7ff; text-decoration-color: #00d7ff\">None</span>, <span style=\"color: #00af00; text-decoration-color: #00af00\">3</span>)                   │             <span style=\"color: #00af00; text-decoration-color: #00af00\">123</span> │\n",
       "└──────────────────────────────────────┴─────────────────────────────┴─────────────────┘\n",
       "</pre>\n"
      ],
      "text/plain": [
       "┏━━━━━━━━━━━━━━━━━━━━━━━━━━━━━━━━━━━━━━┳━━━━━━━━━━━━━━━━━━━━━━━━━━━━━┳━━━━━━━━━━━━━━━━━┓\n",
       "┃\u001b[1m \u001b[0m\u001b[1mLayer (type)                        \u001b[0m\u001b[1m \u001b[0m┃\u001b[1m \u001b[0m\u001b[1mOutput Shape               \u001b[0m\u001b[1m \u001b[0m┃\u001b[1m \u001b[0m\u001b[1m        Param #\u001b[0m\u001b[1m \u001b[0m┃\n",
       "┡━━━━━━━━━━━━━━━━━━━━━━━━━━━━━━━━━━━━━━╇━━━━━━━━━━━━━━━━━━━━━━━━━━━━━╇━━━━━━━━━━━━━━━━━┩\n",
       "│ embedding_1 (\u001b[38;5;33mEmbedding\u001b[0m)              │ (\u001b[38;5;45mNone\u001b[0m, \u001b[38;5;34m35\u001b[0m, \u001b[38;5;34m4\u001b[0m)               │          \u001b[38;5;34m80,000\u001b[0m │\n",
       "├──────────────────────────────────────┼─────────────────────────────┼─────────────────┤\n",
       "│ gru (\u001b[38;5;33mGRU\u001b[0m)                            │ (\u001b[38;5;45mNone\u001b[0m, \u001b[38;5;34m40\u001b[0m)                  │           \u001b[38;5;34m5,520\u001b[0m │\n",
       "├──────────────────────────────────────┼─────────────────────────────┼─────────────────┤\n",
       "│ dense_1 (\u001b[38;5;33mDense\u001b[0m)                      │ (\u001b[38;5;45mNone\u001b[0m, \u001b[38;5;34m3\u001b[0m)                   │             \u001b[38;5;34m123\u001b[0m │\n",
       "└──────────────────────────────────────┴─────────────────────────────┴─────────────────┘\n"
      ]
     },
     "metadata": {},
     "output_type": "display_data"
    },
    {
     "data": {
      "text/html": [
       "<pre style=\"white-space:pre;overflow-x:auto;line-height:normal;font-family:Menlo,'DejaVu Sans Mono',consolas,'Courier New',monospace\"><span style=\"font-weight: bold\"> Total params: </span><span style=\"color: #00af00; text-decoration-color: #00af00\">85,643</span> (334.54 KB)\n",
       "</pre>\n"
      ],
      "text/plain": [
       "\u001b[1m Total params: \u001b[0m\u001b[38;5;34m85,643\u001b[0m (334.54 KB)\n"
      ]
     },
     "metadata": {},
     "output_type": "display_data"
    },
    {
     "data": {
      "text/html": [
       "<pre style=\"white-space:pre;overflow-x:auto;line-height:normal;font-family:Menlo,'DejaVu Sans Mono',consolas,'Courier New',monospace\"><span style=\"font-weight: bold\"> Trainable params: </span><span style=\"color: #00af00; text-decoration-color: #00af00\">85,643</span> (334.54 KB)\n",
       "</pre>\n"
      ],
      "text/plain": [
       "\u001b[1m Trainable params: \u001b[0m\u001b[38;5;34m85,643\u001b[0m (334.54 KB)\n"
      ]
     },
     "metadata": {},
     "output_type": "display_data"
    },
    {
     "data": {
      "text/html": [
       "<pre style=\"white-space:pre;overflow-x:auto;line-height:normal;font-family:Menlo,'DejaVu Sans Mono',consolas,'Courier New',monospace\"><span style=\"font-weight: bold\"> Non-trainable params: </span><span style=\"color: #00af00; text-decoration-color: #00af00\">0</span> (0.00 B)\n",
       "</pre>\n"
      ],
      "text/plain": [
       "\u001b[1m Non-trainable params: \u001b[0m\u001b[38;5;34m0\u001b[0m (0.00 B)\n"
      ]
     },
     "metadata": {},
     "output_type": "display_data"
    }
   ],
   "source": [
    "model2.summary()"
   ]
  },
  {
   "cell_type": "code",
   "execution_count": 27,
   "id": "53bf1d13-f3bd-4b33-aaaf-8f22c684ce85",
   "metadata": {},
   "outputs": [],
   "source": [
    "model2.compile(optimizer='adam',loss='categorical_crossentropy',metrics=[\"accuracy\"])"
   ]
  },
  {
   "cell_type": "code",
   "execution_count": 28,
   "id": "80104d36-2bde-4fd2-adc8-d8fd26ac74b4",
   "metadata": {},
   "outputs": [
    {
     "name": "stdout",
     "output_type": "stream",
     "text": [
      "Epoch 1/10\n",
      "\u001b[1m859/859\u001b[0m \u001b[32m━━━━━━━━━━━━━━━━━━━━\u001b[0m\u001b[37m\u001b[0m \u001b[1m8s\u001b[0m 8ms/step - accuracy: 0.4030 - loss: 1.0883 - val_accuracy: 0.5630 - val_loss: 1.0501\n",
      "Epoch 2/10\n",
      "\u001b[1m859/859\u001b[0m \u001b[32m━━━━━━━━━━━━━━━━━━━━\u001b[0m\u001b[37m\u001b[0m \u001b[1m7s\u001b[0m 8ms/step - accuracy: 0.4280 - loss: 1.0619 - val_accuracy: 0.7385 - val_loss: 0.7342\n",
      "Epoch 3/10\n",
      "\u001b[1m859/859\u001b[0m \u001b[32m━━━━━━━━━━━━━━━━━━━━\u001b[0m\u001b[37m\u001b[0m \u001b[1m6s\u001b[0m 7ms/step - accuracy: 0.7058 - loss: 0.6948 - val_accuracy: 0.7740 - val_loss: 0.5953\n",
      "Epoch 4/10\n",
      "\u001b[1m859/859\u001b[0m \u001b[32m━━━━━━━━━━━━━━━━━━━━\u001b[0m\u001b[37m\u001b[0m \u001b[1m6s\u001b[0m 7ms/step - accuracy: 0.7744 - loss: 0.5788 - val_accuracy: 0.7880 - val_loss: 0.5737\n",
      "Epoch 5/10\n",
      "\u001b[1m859/859\u001b[0m \u001b[32m━━━━━━━━━━━━━━━━━━━━\u001b[0m\u001b[37m\u001b[0m \u001b[1m6s\u001b[0m 7ms/step - accuracy: 0.8198 - loss: 0.4893 - val_accuracy: 0.7861 - val_loss: 0.5607\n",
      "Epoch 6/10\n",
      "\u001b[1m859/859\u001b[0m \u001b[32m━━━━━━━━━━━━━━━━━━━━\u001b[0m\u001b[37m\u001b[0m \u001b[1m6s\u001b[0m 7ms/step - accuracy: 0.8477 - loss: 0.4338 - val_accuracy: 0.7834 - val_loss: 0.5674\n",
      "Epoch 7/10\n",
      "\u001b[1m859/859\u001b[0m \u001b[32m━━━━━━━━━━━━━━━━━━━━\u001b[0m\u001b[37m\u001b[0m \u001b[1m6s\u001b[0m 7ms/step - accuracy: 0.8682 - loss: 0.3917 - val_accuracy: 0.7776 - val_loss: 0.5729\n",
      "Epoch 8/10\n",
      "\u001b[1m859/859\u001b[0m \u001b[32m━━━━━━━━━━━━━━━━━━━━\u001b[0m\u001b[37m\u001b[0m \u001b[1m6s\u001b[0m 7ms/step - accuracy: 0.8868 - loss: 0.3480 - val_accuracy: 0.7830 - val_loss: 0.5945\n",
      "Epoch 9/10\n",
      "\u001b[1m859/859\u001b[0m \u001b[32m━━━━━━━━━━━━━━━━━━━━\u001b[0m\u001b[37m\u001b[0m \u001b[1m6s\u001b[0m 8ms/step - accuracy: 0.8992 - loss: 0.3172 - val_accuracy: 0.7765 - val_loss: 0.6632\n",
      "Epoch 10/10\n",
      "\u001b[1m859/859\u001b[0m \u001b[32m━━━━━━━━━━━━━━━━━━━━\u001b[0m\u001b[37m\u001b[0m \u001b[1m6s\u001b[0m 7ms/step - accuracy: 0.9125 - loss: 0.2824 - val_accuracy: 0.7753 - val_loss: 0.6317\n"
     ]
    }
   ],
   "source": [
    "history2 = model2.fit(X_train , y_train , epochs=10,validation_data=(X_test,y_test))"
   ]
  },
  {
   "cell_type": "code",
   "execution_count": 29,
   "id": "3a1316c0-89b5-43fa-93cc-2e6f29bb5164",
   "metadata": {},
   "outputs": [
    {
     "data": {
      "image/png": "[encoded data removed]",
      "text/plain": [
       "<Figure size 640x480 with 1 Axes>"
      ]
     },
     "metadata": {},
     "output_type": "display_data"
    }
   ],
   "source": [
    "plt.plot(history2.history['accuracy'])\n",
    "plt.plot(history2.history['val_accuracy'])\n",
    "plt.show()"
   ]
  },
  {
   "cell_type": "markdown",
   "id": "609c5737-d13b-424a-bb27-215a824a227f",
   "metadata": {},
   "source": [
    "# predictions"
   ]
  },
  {
   "cell_type": "code",
   "execution_count": 30,
   "id": "c6fb37c5-f372-42e8-a35b-16a424f57298",
   "metadata": {},
   "outputs": [],
   "source": [
    "def prediction(text):\n",
    "    # Prediction funtion \n",
    "    sequence = tokenizer.texts_to_sequences([text])\n",
    "    padding = pad_sequences(sequence , padding='post',maxlen=35)\n",
    "    pred = model2.predict(padding)\n",
    "    pred_class = pred.argmax(axis=-1)\n",
    "    if pred_class[0] == 0:\n",
    "        print(\"Positive Sentiment\");\n",
    "    elif pred_class[0] == 1:\n",
    "        print(\"Negative Sentiment\")\n",
    "    else :\n",
    "        print(\"Natural Sentiment\")"
   ]
  },
  {
   "cell_type": "code",
   "execution_count": 32,
   "id": "42f5e1d0-acd6-4419-ba89-f94a4ce3905b",
   "metadata": {},
   "outputs": [
    {
     "name": "stdout",
     "output_type": "stream",
     "text": [
      "\u001b[1m1/1\u001b[0m \u001b[32m━━━━━━━━━━━━━━━━━━━━\u001b[0m\u001b[37m\u001b[0m \u001b[1m0s\u001b[0m 150ms/step\n",
      "Positive Sentiment\n"
     ]
    }
   ],
   "source": [
    "text = \"I absolutely loved the movie I watched last night. It was so heartwarming and inspiring!\"\n",
    "sequence = tokenizer.texts_to_sequences([text])\n",
    "padding = pad_sequences(sequence , padding='post',maxlen=35)\n",
    "pred = model2.predict(padding)\n",
    "pred_class = pred.argmax(axis=-1)\n",
    "if pred_class[0] == 0:\n",
    "    print(\"Positive Sentiment\");\n",
    "elif pred_class[0] == 1:\n",
    "    print(\"Negative Sentiment\")\n",
    "else :\n",
    "    print(\"Natural Sentiment\")"
   ]
  },
  {
   "cell_type": "code",
   "execution_count": 33,
   "id": "f6edd2a4-2ed4-4708-8516-31f0d80b0039",
   "metadata": {},
   "outputs": [
    {
     "name": "stdout",
     "output_type": "stream",
     "text": [
      "\u001b[1m1/1\u001b[0m \u001b[32m━━━━━━━━━━━━━━━━━━━━\u001b[0m\u001b[37m\u001b[0m \u001b[1m0s\u001b[0m 26ms/step\n",
      "Negative Sentiment\n"
     ]
    }
   ],
   "source": [
    "text = \"I was sad when it rained on my picnic day.\"\n",
    "sequence = tokenizer.texts_to_sequences([text])\n",
    "padding = pad_sequences(sequence , padding='post',maxlen=35)\n",
    "pred = model2.predict(padding)\n",
    "pred_class = pred.argmax(axis=-1)\n",
    "if pred_class[0] == 0:\n",
    "    print(\"Positive Sentiment\");\n",
    "elif pred_class[0] == 1:\n",
    "    print(\"Negative Sentiment\")\n",
    "else :\n",
    "    print(\"Natural Sentiment\")"
   ]
  },
  {
   "cell_type": "markdown",
   "id": "db3c3772-b562-444b-8b46-f027867f625d",
   "metadata": {},
   "source": [
    "## positive sentence "
   ]
  },
  {
   "cell_type": "code",
   "execution_count": 34,
   "id": "07094b68-e5c9-432c-845c-2f0c317dcbad",
   "metadata": {},
   "outputs": [
    {
     "name": "stdout",
     "output_type": "stream",
     "text": [
      "\u001b[1m1/1\u001b[0m \u001b[32m━━━━━━━━━━━━━━━━━━━━\u001b[0m\u001b[37m\u001b[0m \u001b[1m0s\u001b[0m 25ms/step\n",
      "Positive Sentiment\n"
     ]
    }
   ],
   "source": [
    "prediction(\"I'm so happy with how everything turned out!\")"
   ]
  },
  {
   "cell_type": "code",
   "execution_count": 35,
   "id": "bc31a72c-f98e-4bcb-afd7-cff14112bcfb",
   "metadata": {},
   "outputs": [
    {
     "name": "stdout",
     "output_type": "stream",
     "text": [
      "\u001b[1m1/1\u001b[0m \u001b[32m━━━━━━━━━━━━━━━━━━━━\u001b[0m\u001b[37m\u001b[0m \u001b[1m0s\u001b[0m 25ms/step\n",
      "Positive Sentiment\n"
     ]
    }
   ],
   "source": [
    "prediction('This product exceeded my expectations — absolutely love it!')"
   ]
  },
  {
   "cell_type": "code",
   "execution_count": 36,
   "id": "f3e9e5b9-f88f-484f-a52a-827a3772eb28",
   "metadata": {},
   "outputs": [
    {
     "name": "stdout",
     "output_type": "stream",
     "text": [
      "\u001b[1m1/1\u001b[0m \u001b[32m━━━━━━━━━━━━━━━━━━━━\u001b[0m\u001b[37m\u001b[0m \u001b[1m0s\u001b[0m 27ms/step\n",
      "Positive Sentiment\n"
     ]
    }
   ],
   "source": [
    "prediction('Had an amazing time at the concert last night!')"
   ]
  },
  {
   "cell_type": "code",
   "execution_count": 37,
   "id": "0462894b-e4ba-48ee-85aa-7a583b7e9fff",
   "metadata": {},
   "outputs": [
    {
     "name": "stdout",
     "output_type": "stream",
     "text": [
      "\u001b[1m1/1\u001b[0m \u001b[32m━━━━━━━━━━━━━━━━━━━━\u001b[0m\u001b[37m\u001b[0m \u001b[1m0s\u001b[0m 25ms/step\n",
      "Positive Sentiment\n"
     ]
    }
   ],
   "source": [
    "prediction('The customer service was excellent and super helpful.')"
   ]
  },
  {
   "cell_type": "markdown",
   "id": "892d0801-0c00-4eeb-a3c8-bf00de3dae3c",
   "metadata": {},
   "source": [
    "## Negative Sentences "
   ]
  },
  {
   "cell_type": "code",
   "execution_count": 38,
   "id": "a89a0032-8db3-488b-980b-3099cbe814bb",
   "metadata": {},
   "outputs": [
    {
     "name": "stdout",
     "output_type": "stream",
     "text": [
      "\u001b[1m1/1\u001b[0m \u001b[32m━━━━━━━━━━━━━━━━━━━━\u001b[0m\u001b[37m\u001b[0m \u001b[1m0s\u001b[0m 26ms/step\n",
      "Negative Sentiment\n"
     ]
    }
   ],
   "source": [
    "prediction(\"This is the worst experience I've ever had.\")"
   ]
  },
  {
   "cell_type": "code",
   "execution_count": 39,
   "id": "1fecf693-7e57-4356-9a1d-1fc049b1a572",
   "metadata": {},
   "outputs": [
    {
     "name": "stdout",
     "output_type": "stream",
     "text": [
      "\u001b[1m1/1\u001b[0m \u001b[32m━━━━━━━━━━━━━━━━━━━━\u001b[0m\u001b[37m\u001b[0m \u001b[1m0s\u001b[0m 25ms/step\n",
      "Negative Sentiment\n"
     ]
    }
   ],
   "source": [
    "prediction('Completely disappointed with the service.')"
   ]
  },
  {
   "cell_type": "code",
   "execution_count": 40,
   "id": "7b59fd23-ab25-449e-95f6-34ff5bbd29fc",
   "metadata": {},
   "outputs": [
    {
     "name": "stdout",
     "output_type": "stream",
     "text": [
      "\u001b[1m1/1\u001b[0m \u001b[32m━━━━━━━━━━━━━━━━━━━━\u001b[0m\u001b[37m\u001b[0m \u001b[1m0s\u001b[0m 28ms/step\n",
      "Natural Sentiment\n"
     ]
    }
   ],
   "source": [
    "prediction(\"I can't believe how bad the quality is.\")"
   ]
  },
  {
   "cell_type": "code",
   "execution_count": 41,
   "id": "5b5b4821-259c-465d-94d0-959e38c15791",
   "metadata": {},
   "outputs": [
    {
     "name": "stdout",
     "output_type": "stream",
     "text": [
      "\u001b[1m1/1\u001b[0m \u001b[32m━━━━━━━━━━━━━━━━━━━━\u001b[0m\u001b[37m\u001b[0m \u001b[1m0s\u001b[0m 24ms/step\n",
      "Negative Sentiment\n"
     ]
    }
   ],
   "source": [
    "prediction('Terrible — would never recommend it to anyone.')"
   ]
  },
  {
   "cell_type": "markdown",
   "id": "0dffe80b-0468-4ba9-a42a-c1343f32e851",
   "metadata": {},
   "source": [
    "## Natural Sentences "
   ]
  },
  {
   "cell_type": "code",
   "execution_count": 42,
   "id": "8bd27f56-c97f-48ac-a602-6eef08b2cfaf",
   "metadata": {},
   "outputs": [
    {
     "name": "stdout",
     "output_type": "stream",
     "text": [
      "\u001b[1m1/1\u001b[0m \u001b[32m━━━━━━━━━━━━━━━━━━━━\u001b[0m\u001b[37m\u001b[0m \u001b[1m0s\u001b[0m 27ms/step\n",
      "Natural Sentiment\n"
     ]
    }
   ],
   "source": [
    "prediction('I went to the store to buy groceries.')"
   ]
  },
  {
   "cell_type": "code",
   "execution_count": 43,
   "id": "08887a8c-d550-49d4-8cc4-f281b0355079",
   "metadata": {},
   "outputs": [
    {
     "name": "stdout",
     "output_type": "stream",
     "text": [
      "\u001b[1m1/1\u001b[0m \u001b[32m━━━━━━━━━━━━━━━━━━━━\u001b[0m\u001b[37m\u001b[0m \u001b[1m0s\u001b[0m 25ms/step\n",
      "Natural Sentiment\n"
     ]
    }
   ],
   "source": [
    "prediction('The meeting is scheduled for 3 PM tomorrow.')"
   ]
  },
  {
   "cell_type": "code",
   "execution_count": 44,
   "id": "7003aa49-582e-4266-b077-5f31a304223b",
   "metadata": {},
   "outputs": [
    {
     "name": "stdout",
     "output_type": "stream",
     "text": [
      "\u001b[1m1/1\u001b[0m \u001b[32m━━━━━━━━━━━━━━━━━━━━\u001b[0m\u001b[37m\u001b[0m \u001b[1m0s\u001b[0m 25ms/step\n",
      "Natural Sentiment\n"
     ]
    }
   ],
   "source": [
    "prediction('It rained for most of the afternoon.')"
   ]
  },
  {
   "cell_type": "code",
   "execution_count": 45,
   "id": "98e69ba3-1ed6-47ba-a3ca-d0dc3eb2a7bc",
   "metadata": {},
   "outputs": [
    {
     "name": "stdout",
     "output_type": "stream",
     "text": [
      "\u001b[1m1/1\u001b[0m \u001b[32m━━━━━━━━━━━━━━━━━━━━\u001b[0m\u001b[37m\u001b[0m \u001b[1m0s\u001b[0m 27ms/step\n",
      "Natural Sentiment\n"
     ]
    }
   ],
   "source": [
    "prediction('The report contains 15 pages of data.')"
   ]
  },
  {
   "cell_type": "code",
   "execution_count": 46,
   "id": "49f56ef0-bd8e-4b06-8ed1-d66fbbbeb414",
   "metadata": {},
   "outputs": [],
   "source": [
    "import joblib"
   ]
  },
  {
   "cell_type": "markdown",
   "id": "11646671-7cb5-454a-b5c0-d4f364e9d990",
   "metadata": {},
   "source": [
    "## Save the model and tokenizer "
   ]
  },
  {
   "cell_type": "code",
   "execution_count": 50,
   "id": "47c7cd70-3d0b-40db-9190-5850d4abb354",
   "metadata": {},
   "outputs": [
    {
     "name": "stderr",
     "output_type": "stream",
     "text": [
      "WARNING:absl:You are saving your model as an HDF5 file via `model.save()` or `keras.saving.save_model(model)`. This file format is considered legacy. We recommend using instead the native Keras format, e.g. `model.save('my_model.keras')` or `keras.saving.save_model(model, 'my_model.keras')`. \n"
     ]
    }
   ],
   "source": [
    "from tensorflow.keras.models import save_model\n",
    "import pickle\n",
    "\n",
    "# Save model\n",
    "model2.save(\"sentiment_model.h5\")\n",
    "\n",
    "# Save tokenizer\n",
    "with open(\"tokenizer.pkl\", \"wb\") as f:\n",
    "    pickle.dump(tokenizer, f)"
   ]
  },
  {
   "cell_type": "code",
   "execution_count": null,
   "id": "9e43c4bd-767d-411b-b90e-ead824b932d7",
   "metadata": {},
   "outputs": [],
   "source": []
  }
 ],
 "metadata": {
  "kernelspec": {
   "display_name": "Python 3 (ipykernel)",
   "language": "python",
   "name": "python3"
  },
  "language_info": {
   "codemirror_mode": {
    "name": "ipython",
    "version": 3
   },
   "file_extension": ".py",
   "mimetype": "text/x-python",
   "name": "python",
   "nbconvert_exporter": "python",
   "pygments_lexer": "ipython3",
   "version": "3.12.2"
  }
 },
 "nbformat": 4,
 "nbformat_minor": 5
}
